{
 "cells": [
  {
   "cell_type": "code",
   "execution_count": 6,
   "metadata": {},
   "outputs": [],
   "source": [
    "import numpy as np\n",
    "import pandas as pd\n",
    "%matplotlib inline\n",
    "import matplotlib.pyplot as plt\n",
    "import scipy.misc\n",
    "from matplotlib.pyplot import imshow\n",
    "from PIL import Image"
   ]
  },
  {
   "cell_type": "code",
   "execution_count": 3,
   "metadata": {},
   "outputs": [
    {
     "name": "stderr",
     "output_type": "stream",
     "text": [
      "/Users/shashvatkedia/anaconda3/lib/python3.6/site-packages/h5py/__init__.py:34: FutureWarning: Conversion of the second argument of issubdtype from `float` to `np.floating` is deprecated. In future, it will be treated as `np.float64 == np.dtype(float).type`.\n",
      "  from ._conv import register_converters as _register_converters\n"
     ]
    }
   ],
   "source": [
    "import tensorflow as tf"
   ]
  },
  {
   "cell_type": "code",
   "execution_count": null,
   "metadata": {
    "collapsed": true
   },
   "outputs": [],
   "source": [
    "vgg = scipy.io.loadmat(\"\")\n",
    "vgg_layers = vgg[\"layers\"]"
   ]
  },
  {
   "cell_type": "code",
   "execution_count": null,
   "metadata": {
    "collapsed": true
   },
   "outputs": [],
   "source": [
    "def weights(layer,expected_layer_name):\n",
    "    W = vgg_layers[0][layer][0][0][0]\n",
    "    b = vgg_layers[0][layer][0][0][1]\n",
    "    layer_name = vgg_layers[0][layer][0][0][-2]\n",
    "    assert layer_name == expected_layer_name\n",
    "    return W,b"
   ]
  },
  {
   "cell_type": "code",
   "execution_count": null,
   "metadata": {
    "collapsed": true
   },
   "outputs": [],
   "source": [
    "def relu(cov2d_layer){\n",
    "    return tf.nn.relu(conv2d_layer)\n",
    "}"
   ]
  },
  {
   "cell_type": "code",
   "execution_count": null,
   "metadata": {
    "collapsed": true
   },
   "outputs": [],
   "source": [
    "def cond2d(prev_layer,layer,layer_name):\n",
    "    W,b = weights(layer,layer_name)\n",
    "    W = tf.constant(W)\n",
    "    b = tf.constant(np.reshape(b,(b.size)))\n",
    "    return tf.nn.conv2d(prev_layer,filter=W,strides=[1,1,1,1],padding='SAME') + b"
   ]
  },
  {
   "cell_type": "code",
   "execution_count": null,
   "metadata": {
    "collapsed": true
   },
   "outputs": [],
   "source": [
    "def avg_pool(layer):\n",
    "    return tf.nn.avg_pool(layer,ksize=[1,2,2,1],strides=[1,2,2,1],padding='SAME')"
   ]
  },
  {
   "cell_type": "code",
   "execution_count": null,
   "metadata": {
    "collapsed": true
   },
   "outputs": [],
   "source": [
    "graph = {}\n",
    "graph['input'] = tf.Variable(np.zeros(1,600,800,3),dtype='float32')\n",
    "graph['conv1_1'] = relu(conv2d(graph['input'],0,'conv1_1'))\n",
    "graph['conv1_2'] = relu(conv2d(graph['conv1_1'],2,'conv1_2'))\n",
    "graph['avgpool1'] = avg_pool(graph['conv1_2'])\n",
    "graph['conv2_1'] = relu(conv2d(graph['avgpool1'],5,'conv2_1'))\n",
    "graph['conv2_2'] = relu(conv2d(graph['conv2_1'],7,'conv2_2'))\n",
    "graph['avgpool2'] = avg_pool(graph['conv2_2'])\n",
    "graph['conv3_1'] = relu(conv2d(graph['avgpool2'],10,'conv3_1'))\n",
    "graph['conv3_2'] = relu(conv2d(graph['conv3_1'],12,'conv3_2'))\n",
    "graph['conv3_3'] = relu(conv2d(graph['conv3_2'],14,'conv3_3'))\n",
    "graph['conv3_4'] = relu(conv2d(graph['conv3_3'],16,'conv3_4'))\n",
    "graph['avgpool3'] = avg_pool(graph['conv3_4'])\n",
    "graph['conv4_1'] = relu(conv2d(graph['avgpool3'],19,'conv4_1'))\n",
    "graph['conv4_2'] = relu(conv2d(graph['conv4_1'],21,'conv4_2'))\n",
    "hraph['conv4_3'] = relu(conv2d(graph['conv4_2'],23,'conv4_3'))\n",
    "graph['conv4_4'] = relu(conv2d(graph['conv4_3'],25,'conv4_4'))\n",
    "graph['avgpool4'] = avg_pool(graph['conv4_4'])\n",
    "graph['conv5_1'] = relu(conv2d(graph['avgpool4'],28,'conv5_1'))\n",
    "graph['conv5_2'] = relu(conv2d(graph['conv5_1'],30,'conv5_2'))\n",
    "graph['conv5_3'] = relu(conv2d(graph['conv5_2'],32,'conv5_3'))\n",
    "graph['conv5_4'] = relu(conv2d(graph['conv5_3'],34,;conv5_4))\n",
    "graph['avgpool5'] = avg_pool(graph['conv5_4'])"
   ]
  },
  {
   "cell_type": "code",
   "execution_count": null,
   "metadata": {
    "collapsed": true
   },
   "outputs": [],
   "source": [
    "def content_loss(sess,model):\n",
    "    def content_loss_util(p,x):\n",
    "        N = p.shape[3]\n",
    "        M = p.shape[1] * p.shape[2]\n",
    "        return (1/(4*N*M)) * tf.reduce_sum(tf.pow(x-p,2))\n",
    "    return content_loss_util(sess.run(model['conv4_2']),sess.run(model['conv4_2']))"
   ]
  },
  {
   "cell_type": "code",
   "execution_count": null,
   "metadata": {
    "collapsed": true
   },
   "outputs": [],
   "source": [
    "STYLE_LAYERS = [\n",
    "    ('conv1_1',0.5),\n",
    "    ('conv2_1',1.0),\n",
    "    ('conv3_1',1.5),\n",
    "    ('conv4_1',3.0),\n",
    "    ('conv5_1',4.0),\n",
    "]"
   ]
  },
  {
   "cell_type": "code",
   "execution_count": null,
   "metadata": {
    "collapsed": true
   },
   "outputs": [],
   "source": [
    "def style_loss(sess,model):\n",
    "    def gram_matrix(F,N,M):\n",
    "        Ft = tf.reshape(F,(N,M))\n",
    "        return tf.matmul(tf.transpose(Ft),F)\n",
    "    \n",
    "    def style_loss_util(a,x):\n",
    "        N = a.shape[3]\n",
    "        M = a.shape[1] * a.shape[2]\n",
    "        A = gram_matrix(a,N,M)\n",
    "        G = gram_matrix(x,N,M)\n",
    "        return (1/(4 * N**2 * M**2)) * tf.reduce_sum(tf.pow(G-A,2))\n",
    "    E = [style_loss_util(sess.run(model[layer_name]),sess.run(model[layer_name])) for layer_name,_ in STYLE_LAYERS]\n",
    "    W = [w for _,w in STYLE_LAYERS]\n",
    "    return sum([W[l] * E[l] for l in range(len(STYLE_LAYERS))])"
   ]
  },
  {
   "cell_type": "code",
   "execution_count": null,
   "metadata": {
    "collapsed": true
   },
   "outputs": [],
   "source": [
    "def generate_noisy_image(content_image,noise_ratio=0.6):\n",
    "    noisy_image = np.random.uniform(-20,20,(1,600,800,3)).astype('float32')\n",
    "    return noisy_image * noise_ratio + content_image * (1 - noise_ratio)"
   ]
  },
  {
   "cell_type": "code",
   "execution_count": null,
   "metadata": {
    "collapsed": true
   },
   "outputs": [],
   "source": [
    "MEAN_VALUES = np.array([123.68,116.779,103.939])"
   ]
  },
  {
   "cell_type": "code",
   "execution_count": null,
   "metadata": {
    "collapsed": true
   },
   "outputs": [],
   "source": [
    "def load_image(path):\n",
    "    image = scipy.misc.imread(path)\n",
    "    image = np.reshape(image,((1,) + image.shape))\n",
    "    image = image - MEAN_VALUES\n",
    "    return image"
   ]
  },
  {
   "cell_type": "code",
   "execution_count": null,
   "metadata": {
    "collapsed": true
   },
   "outputs": [],
   "source": [
    "def save_image(path):\n",
    "    image = image + MEAN_VALUES\n",
    "    image = image[0]\n",
    "    image = np.clip(image,0,255).astype('uint8')\n",
    "    scipy.misc.imsave(path,image)"
   ]
  },
  {
   "cell_type": "code",
   "execution_count": null,
   "metadata": {
    "collapsed": true
   },
   "outputs": [],
   "source": [
    "sess = tf.InteractiveSession()\n"
   ]
  }
 ],
 "metadata": {
  "kernelspec": {
   "display_name": "Python 3",
   "language": "python",
   "name": "python3"
  },
  "language_info": {
   "codemirror_mode": {
    "name": "ipython",
    "version": 3
   },
   "file_extension": ".py",
   "mimetype": "text/x-python",
   "name": "python",
   "nbconvert_exporter": "python",
   "pygments_lexer": "ipython3",
   "version": "3.6.2"
  }
 },
 "nbformat": 4,
 "nbformat_minor": 2
}
